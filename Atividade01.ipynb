{
  "nbformat": 4,
  "nbformat_minor": 0,
  "metadata": {
    "colab": {
      "provenance": [],
      "authorship_tag": "ABX9TyN519fB8JXPnxoDQuvvxf1T",
      "include_colab_link": true
    },
    "kernelspec": {
      "name": "python3",
      "display_name": "Python 3"
    },
    "language_info": {
      "name": "python"
    }
  },
  "cells": [
    {
      "cell_type": "markdown",
      "metadata": {
        "id": "view-in-github",
        "colab_type": "text"
      },
      "source": [
        "<a href=\"https://colab.research.google.com/github/vitormenezes-star/Atividade_Cesta_Basica/blob/main/Atividade01.ipynb\" target=\"_parent\"><img src=\"https://colab.research.google.com/assets/colab-badge.svg\" alt=\"Open In Colab\"/></a>"
      ]
    },
    {
      "cell_type": "code",
      "execution_count": 5,
      "metadata": {
        "colab": {
          "base_uri": "https://localhost:8080/"
        },
        "id": "DO32oq_mZovo",
        "outputId": "dd1b9b1b-d0e9-4271-e959-34421778e2e5"
      },
      "outputs": [
        {
          "output_type": "stream",
          "name": "stdout",
          "text": [
            "        Produto  Preço Anterior  Preço Atual  Variação (%)          Situação\n",
            "0         Arroz            20.0         22.5     12.500000   Aumento abusivo\n",
            "1        Feijão             8.0          8.0      0.000000           Estável\n",
            "2  Óleo de soja             6.5          6.0     -7.692308  Redução de preço\n",
            "3        Açúcar             4.0          4.4     10.000000   Aumento abusivo\n"
          ]
        }
      ],
      "source": [
        "import pandas as pd\n",
        "\n",
        "# Criar o DataFrame com os dados\n",
        "dados = {\n",
        "    'Produto': ['Arroz', 'Feijão', 'Óleo de soja', 'Açúcar'],\n",
        "    'Preço Anterior': [20.00, 8.00, 6.50, 4.00],\n",
        "    'Preço Atual': [22.50, 8.00, 6.00, 4.40]\n",
        "}\n",
        "\n",
        "# Criando o DataFrame com os dados\n",
        "df = pd.DataFrame(dados)\n",
        "\n",
        "# Função para calcular a variação percentual de cada produto\n",
        "def calcular_variacao_percentual(preco_anterior, preco_atual):\n",
        "    if preco_anterior == 0:  # Evitar divisão por zero\n",
        "        return 0\n",
        "    return ((preco_atual - preco_anterior) / preco_anterior) * 100\n",
        "\n",
        "# Aplicando a função de variação para cada linha do DataFrame\n",
        "df['Variação (%)'] = df.apply(lambda row: calcular_variacao_percentual(row['Preço Anterior'], row['Preço Atual']), axis=1)\n",
        "\n",
        "# Função para classificar a situação com base na variação percentual\n",
        "def classificar_situacao(variacao):\n",
        "    if variacao > 10:\n",
        "        return \"Aumento abusivo\"\n",
        "    elif variacao < 0:\n",
        "        return \"Redução de preço\"\n",
        "    elif variacao == 0:\n",
        "        return \"Estável\"\n",
        "    elif variacao == 10:\n",
        "        return \"Limite de aumento\"\n",
        "    else:\n",
        "        return \"Outros\"\n",
        "\n",
        "# Aplicando a classificação da situação de cada produto\n",
        "df['Situação'] = df['Variação (%)'].apply(classificar_situacao)\n",
        "\n",
        "# Exibir a tabela final\n",
        "print(df)\n",
        "\n"
      ]
    }
  ]
}